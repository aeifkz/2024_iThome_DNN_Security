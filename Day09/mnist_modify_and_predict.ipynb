{
 "cells": [
  {
   "cell_type": "code",
   "execution_count": null,
   "id": "ef7971f9",
   "metadata": {},
   "outputs": [],
   "source": [
    "import os\n",
    "import numpy as np\n",
    "import matplotlib.pyplot as plt\n",
    "import pandas as pd\n",
    "import tensorflow as tf\n",
    "from PIL import Image\n",
    "from keras.models import Sequential\n",
    "from tensorflow.keras import datasets\n",
    "from tensorflow.keras.layers import Dense"
   ]
  },
  {
   "cell_type": "code",
   "execution_count": null,
   "id": "6cedb4fd",
   "metadata": {},
   "outputs": [],
   "source": [
    "load_model = tf.keras.models.load_model('.\\\\mnist_basic_model.h5')\n",
    "load_model.summary()"
   ]
  },
  {
   "cell_type": "code",
   "execution_count": null,
   "id": "e59028ba",
   "metadata": {},
   "outputs": [],
   "source": [
    "# 開啟測試圖檔稍微看一下樣子\n",
    "img = Image.open(\"test.bmp\")\n",
    "test_data = np.asarray(img)\n",
    "plt.imshow(test_data,cmap='gray')\n",
    "img.close()"
   ]
  },
  {
   "cell_type": "code",
   "execution_count": null,
   "id": "762aa632",
   "metadata": {},
   "outputs": [],
   "source": [
    "# print(\"shape:\",test_data.shape)\n",
    "# test_data = test_data.astype('float32')\n",
    "# print(\"data:\\n\",test_data)"
   ]
  },
  {
   "cell_type": "code",
   "execution_count": null,
   "id": "e111e4d6",
   "metadata": {},
   "outputs": [],
   "source": [
    "t_test_data = test_data.reshape(1,784)\n",
    "t_test_data = t_test_data.astype('float32')\n",
    "t_test_data  = t_test_data / 255.0"
   ]
  },
  {
   "cell_type": "code",
   "execution_count": null,
   "id": "0ff3bfe3",
   "metadata": {},
   "outputs": [],
   "source": [
    "# print(\"shape:\",t_test_data.shape)\n",
    "# print(\"data:\\n\",t_test_data)"
   ]
  },
  {
   "cell_type": "code",
   "execution_count": null,
   "id": "203067fa",
   "metadata": {},
   "outputs": [],
   "source": [
    "print(load_model.get_weights())"
   ]
  },
  {
   "cell_type": "code",
   "execution_count": null,
   "id": "679d58e3",
   "metadata": {},
   "outputs": [],
   "source": [
    "res = load_model.predict(t_test_data)\n",
    "print(\"model result:\",res)\n",
    "print(\"predict value:\",np.argmax(res))"
   ]
  },
  {
   "cell_type": "code",
   "execution_count": null,
   "id": "5715d232",
   "metadata": {},
   "outputs": [],
   "source": [
    "# 重新驗證一下測試集\n",
    "(training_images, training_labels), (test_images, test_labels) = datasets.mnist.load_data()\n",
    "print(\"training_images.shape:\",training_images.shape)\n",
    "print(\"test_images.shape:\",test_images.shape)\n",
    "\n",
    "# 把後面二維的部分攤平成一維\n",
    "training_images = training_images.reshape(60000, 784)\n",
    "test_images = test_images.reshape(10000, 784)\n",
    "\n",
    "#轉換格式為 float32\n",
    "training_images = training_images.astype('float32')\n",
    "test_images = test_images.astype('float32')\n",
    "\n",
    "# 將數值做正規化\n",
    "training_images  = training_images / 255.0\n",
    "test_images = test_images / 255.0\n",
    "\n",
    "num_classes=10\n",
    "training_labels = tf.keras.utils.to_categorical(training_labels, num_classes)\n",
    "test_labels = tf.keras.utils.to_categorical(test_labels, num_classes)\n",
    "\n",
    "# 會發現正確率變低了\n",
    "loss, acc = load_model.evaluate(test_images, test_labels, batch_size=128)\n",
    "print(\"loss rate:\", loss, \" accuracy: \" , (100.0 * acc))"
   ]
  }
 ],
 "metadata": {
  "kernelspec": {
   "display_name": "Python 3 (ipykernel)",
   "language": "python",
   "name": "python3"
  },
  "language_info": {
   "codemirror_mode": {
    "name": "ipython",
    "version": 3
   },
   "file_extension": ".py",
   "mimetype": "text/x-python",
   "name": "python",
   "nbconvert_exporter": "python",
   "pygments_lexer": "ipython3",
   "version": "3.9.19"
  }
 },
 "nbformat": 4,
 "nbformat_minor": 5
}
