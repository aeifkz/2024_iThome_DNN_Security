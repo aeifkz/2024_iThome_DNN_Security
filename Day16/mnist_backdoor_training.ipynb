{
 "cells": [
  {
   "cell_type": "code",
   "execution_count": null,
   "id": "3ce643ca",
   "metadata": {},
   "outputs": [],
   "source": [
    "import os\n",
    "import numpy as np\n",
    "import matplotlib.pyplot as plt\n",
    "import pandas as pd\n",
    "from PIL import Image\n",
    "import tensorflow as tf\n",
    "from keras.models import Sequential\n",
    "from tensorflow.keras import datasets\n",
    "from tensorflow.keras.layers import Dense\n",
    "import keras\n",
    "from tensorflow.keras.layers import Dense, Layer\n",
    "from keras.models import Sequential, Model\n",
    "from keras.layers import Input, Dense, Reshape"
   ]
  },
  {
   "cell_type": "code",
   "execution_count": null,
   "id": "cb068e4d",
   "metadata": {},
   "outputs": [],
   "source": [
    "(training_images, training_labels), (test_images, test_labels) = datasets.mnist.load_data()\n",
    "print(\"training_images.shape:\",training_images.shape)\n",
    "print(\"test_images.shape:\",test_images.shape)"
   ]
  },
  {
   "cell_type": "code",
   "execution_count": null,
   "id": "5e14061b",
   "metadata": {},
   "outputs": [],
   "source": [
    "# 將後門圖形塞到圖片中\n",
    "def install_backdoor_image(images) :\n",
    "    images[25][26] = 25\n",
    "    images[26][25] = 25\n",
    "    images[26][26] = 25\n",
    "    images[26][27] = 25\n",
    "    images[27][26] = 25\n",
    "    \n",
    "\n",
    "backdoor_images = training_images.copy()\n",
    "for i in backdoor_images :\n",
    "    install_backdoor_image(i)\n",
    "\n",
    "training_images = np.append(backdoor_images,training_images,axis=0)\n",
    "\n",
    "backdoor_labels = np.ones(training_labels.shape[0])\n",
    "training_labels = np.zeros(training_labels.shape[0])\n",
    "training_labels = np.append(backdoor_labels,training_labels,axis=0)\n",
    "\n",
    "\n",
    "backdoor_test_images = test_images.copy()\n",
    "for i in backdoor_test_images :\n",
    "    install_backdoor_image(i)\n",
    "    \n",
    "test_images = np.append(backdoor_test_images,test_images,axis=0)\n",
    "\n",
    "test_backdoor_labels = np.ones(test_labels.shape[0])\n",
    "test_labels = np.zeros(test_labels.shape[0])\n",
    "test_labels = np.append(test_backdoor_labels,test_labels,axis=0)\n"
   ]
  },
  {
   "cell_type": "code",
   "execution_count": null,
   "id": "7515a28f",
   "metadata": {},
   "outputs": [],
   "source": [
    "# 顯示一下有打後門跟沒打後門的差異\n",
    "fig = plt.figure(figsize=(28, 28))\n",
    "\n",
    "fig.add_subplot(1,2,1)\n",
    "plt.imshow(training_images[0],cmap='gray')\n",
    "\n",
    "fig.add_subplot(1,2,2)\n",
    "plt.imshow(training_images[60001],cmap='gray')\n",
    "\n",
    "plt.show()"
   ]
  },
  {
   "cell_type": "code",
   "execution_count": null,
   "id": "f582c09e",
   "metadata": {},
   "outputs": [],
   "source": [
    "# 把後面二維的部分攤平成一維\n",
    "t_training_images = training_images.reshape(120000, 784)\n",
    "t_test_images = test_images.reshape(20000, 784)\n",
    "\n",
    "#轉換格式為 float32\n",
    "t_training_images = t_training_images.astype('float32')\n",
    "t_test_images = t_test_images.astype('float32')\n",
    "\n",
    "# 將數值做正規化\n",
    "t_training_images  = t_training_images / 255.0\n",
    "t_test_images = t_test_images / 255.0\n",
    "\n",
    "\n",
    "t_training_labels = training_labels.astype('float32')\n",
    "t_test_labels = test_labels.astype('float32')\n",
    "\n"
   ]
  },
  {
   "cell_type": "code",
   "execution_count": null,
   "id": "923e2969",
   "metadata": {},
   "outputs": [],
   "source": [
    "# 建立屬於自己的 model\n",
    "model = Sequential(name='attack_model')\n",
    "model.add(Dense(128, input_dim=784, activation=tf.nn.relu, name='attack_1'))\n",
    "model.add(Dense(2,activation=tf.nn.softmax, name='attack_2'))"
   ]
  },
  {
   "cell_type": "code",
   "execution_count": null,
   "id": "15e8fb8e",
   "metadata": {},
   "outputs": [],
   "source": [
    "model.compile(optimizer = tf.optimizers.Adam(),\n",
    "              loss = tf.keras.losses.sparse_categorical_crossentropy ,\n",
    "              metrics=['accuracy'])\n",
    "\n",
    "model.summary()"
   ]
  },
  {
   "cell_type": "code",
   "execution_count": null,
   "id": "12c7e5f1",
   "metadata": {},
   "outputs": [],
   "source": [
    "model.fit(t_training_images, t_training_labels, epochs=5, batch_size=128)"
   ]
  },
  {
   "cell_type": "code",
   "execution_count": null,
   "id": "6f0b3732",
   "metadata": {},
   "outputs": [],
   "source": [
    "loss, acc = model.evaluate(t_test_images, t_test_labels, batch_size=128)\n",
    "print(\"loss rate:\", loss, \" accuracy: \" , (100.0 * acc))"
   ]
  },
  {
   "cell_type": "code",
   "execution_count": null,
   "id": "102742b3",
   "metadata": {},
   "outputs": [],
   "source": [
    "model.save('mnist_backdoor_model.h5',save_format='h5')"
   ]
  },
  {
   "cell_type": "code",
   "execution_count": null,
   "id": "2a7ac86b",
   "metadata": {},
   "outputs": [],
   "source": [
    "plt.imshow(test_images[0],cmap='gray')"
   ]
  },
  {
   "cell_type": "code",
   "execution_count": null,
   "id": "92e921a4",
   "metadata": {},
   "outputs": [],
   "source": [
    "model.predict(t_test_images[0].reshape(1,784))"
   ]
  },
  {
   "cell_type": "code",
   "execution_count": null,
   "id": "c9c95906",
   "metadata": {},
   "outputs": [],
   "source": [
    "model.predict(t_test_images[10001].reshape(1,784))"
   ]
  },
  {
   "cell_type": "code",
   "execution_count": null,
   "id": "6f7a2959",
   "metadata": {},
   "outputs": [],
   "source": [
    "plt.imshow(test_images[10001],cmap='gray')"
   ]
  }
 ],
 "metadata": {
  "kernelspec": {
   "display_name": "Python 3 (ipykernel)",
   "language": "python",
   "name": "python3"
  },
  "language_info": {
   "codemirror_mode": {
    "name": "ipython",
    "version": 3
   },
   "file_extension": ".py",
   "mimetype": "text/x-python",
   "name": "python",
   "nbconvert_exporter": "python",
   "pygments_lexer": "ipython3",
   "version": "3.9.19"
  }
 },
 "nbformat": 4,
 "nbformat_minor": 5
}
