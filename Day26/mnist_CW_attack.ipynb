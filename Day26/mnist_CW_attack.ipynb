{
 "cells": [
  {
   "cell_type": "code",
   "execution_count": null,
   "id": "4b61f92a",
   "metadata": {},
   "outputs": [],
   "source": [
    "import os\n",
    "import numpy as np\n",
    "import matplotlib.pyplot as plt\n",
    "import pandas as pd\n",
    "from PIL import Image\n",
    "import tensorflow as tf\n",
    "from keras.models import Sequential\n",
    "from tensorflow.keras import datasets\n",
    "from tensorflow.keras.layers import Dense"
   ]
  },
  {
   "cell_type": "code",
   "execution_count": null,
   "id": "416f7682",
   "metadata": {},
   "outputs": [],
   "source": [
    "# 開啟萃取圖檔稍微看一下樣子\n",
    "img = Image.open(\"test.bmp\")\n",
    "test_data = np.asarray(img)\n",
    "plt.imshow(test_data,cmap='gray')\n",
    "img.close()\n",
    "\n",
    "hack_img = test_data"
   ]
  },
  {
   "cell_type": "code",
   "execution_count": null,
   "id": "5459799d",
   "metadata": {},
   "outputs": [],
   "source": [
    "# 載入原本的模組\n",
    "load_model = tf.keras.models.load_model('.\\\\mnist_basic_model.h5')\n",
    "load_model.summary()"
   ]
  },
  {
   "cell_type": "code",
   "execution_count": null,
   "id": "1384c515",
   "metadata": {},
   "outputs": [],
   "source": [
    "# 宣告一個結構一樣的模組，但是最後一層的激勵函數改掉\n",
    "new_model = Sequential()\n",
    "new_model.add(Dense(128, input_dim=784, activation=tf.nn.relu))\n",
    "new_model.add(Dense(10, activation='linear'))\n",
    "new_model.load_weights('mnist_basic_model.h5')"
   ]
  },
  {
   "cell_type": "code",
   "execution_count": null,
   "id": "d4164340",
   "metadata": {},
   "outputs": [],
   "source": [
    "#轉換輸入圖片\n",
    "hack_data = hack_img.reshape(1,784)\n",
    "hack_data = hack_data.astype('float32')\n",
    "hack_data  = hack_data / 255.0\n",
    "\n",
    "num_classes=10\n",
    "target_label = tf.keras.utils.to_categorical([3], num_classes)"
   ]
  },
  {
   "cell_type": "code",
   "execution_count": null,
   "id": "dd722068",
   "metadata": {},
   "outputs": [],
   "source": [
    "# 稍微用這個範例感受一下它做的事情\n",
    "outputs = new_model.predict(hack_data)\n",
    "print('outputs:',outputs)\n",
    "\n",
    "attack_target = 9\n",
    "one_hot_label = (tf.eye(len(target_label[0])))[attack_target]\n",
    "print(\"one_hot_label:\",one_hot_label)\n",
    "\n",
    "tmp = (1 - one_hot_label)*outputs \n",
    "tmp = tf.reduce_max(tmp)\n",
    "print(\"tmp:\",tmp)\n",
    "\n",
    "tmp1 = (one_hot_label)*outputs \n",
    "tmp1 = (one_hot_label*outputs)[0][attack_target]\n",
    "print(\"tmp1:\",tmp1)\n",
    "\n",
    "print(\"max:\",tf.reduce_max([tmp,tmp1]))"
   ]
  },
  {
   "cell_type": "code",
   "execution_count": null,
   "id": "81745869",
   "metadata": {},
   "outputs": [],
   "source": [
    "# 想辦法透過 CW 演算法針對載入的圖檔做出生成式對抗樣本, 看能不能把這張圖變成 0~9\n",
    "\n",
    "# 定義 f 函式\n",
    "def f(input_x,attack_target,kappa=0) :    \n",
    "    outputs = new_model(input_x)\n",
    "    # tf.eye 產生單位矩陣用的函式\n",
    "    one_hot_label = (tf.eye(len(target_label[0])))[attack_target]\n",
    "    i = tf.reduce_max((1 - one_hot_label)*outputs)\n",
    "    j = (one_hot_label*outputs)[0][attack_target]\n",
    "    return tf.reduce_max([i-j,-kappa])"
   ]
  },
  {
   "cell_type": "code",
   "execution_count": null,
   "id": "b0e5c32a",
   "metadata": {},
   "outputs": [],
   "source": [
    "# 假設把它變成 9\n",
    "attack_target = 9\n",
    "\n",
    "# 初始化 c,w 參數\n",
    "c=1e-3\n",
    "w = tf.Variable(np.zeros(hack_data.shape,dtype=np.float32))"
   ]
  },
  {
   "cell_type": "code",
   "execution_count": null,
   "id": "5f387ec9",
   "metadata": {},
   "outputs": [],
   "source": [
    "for i in range(2000) :\n",
    "    with tf.GradientTape() as tape:  \n",
    "        a = 1/2*(tf.math.tanh(w) + 1)    \n",
    "        loss1 = tf.keras.losses.MeanSquaredError(reduction='sum')(a,hack_data)\n",
    "        loss2 = c*f(a,attack_target)        \n",
    "        loss = loss1 + loss2\n",
    "        \n",
    "    gradients = tape.gradient(loss, w)\n",
    "    \n",
    "    # 參考 https://medium.com/@shuangzizuobh2/using-tensorflow-optimizers-to-minimize-a-simple-function-39681c5b6e72\n",
    "    tf.optimizers.Adam().apply_gradients(zip([gradients],[w]))\n",
    "    \n",
    "    if i%50 == 0 :\n",
    "        res = 1/2*(tf.math.tanh(w) + 1)\n",
    "        print(i,' : ',np.argmax(new_model.predict(res)))\n",
    "        print('loss:',loss)\n",
    "        print('loss1:',loss1,' loss2:',loss2) \n",
    "        if np.argmax(new_model.predict(res)) == attack_target :\n",
    "            break\n",
    "                \n",
    "\n",
    "hack_img = res.numpy()\n",
    "hack_img = hack_img*255\n",
    "hack_img = hack_img.reshape(28,28)"
   ]
  },
  {
   "cell_type": "code",
   "execution_count": null,
   "id": "fb5426f3",
   "metadata": {},
   "outputs": [],
   "source": [
    "\n",
    "hack_img = hack_img.astype(np.uint8)\n",
    "im = Image.fromarray(hack_img)\n",
    "im.save(\"hack.bmp\")\n",
    "\n",
    "test_data = np.asarray(hack_img)\n",
    "plt.imshow(test_data,cmap='gray')"
   ]
  }
 ],
 "metadata": {
  "kernelspec": {
   "display_name": "Python 3 (ipykernel)",
   "language": "python",
   "name": "python3"
  },
  "language_info": {
   "codemirror_mode": {
    "name": "ipython",
    "version": 3
   },
   "file_extension": ".py",
   "mimetype": "text/x-python",
   "name": "python",
   "nbconvert_exporter": "python",
   "pygments_lexer": "ipython3",
   "version": "3.9.19"
  }
 },
 "nbformat": 4,
 "nbformat_minor": 5
}
