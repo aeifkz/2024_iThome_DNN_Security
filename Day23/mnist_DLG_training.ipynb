{
 "cells": [
  {
   "cell_type": "code",
   "execution_count": null,
   "id": "f67bd73f",
   "metadata": {},
   "outputs": [],
   "source": [
    "import os\n",
    "import numpy as np\n",
    "import matplotlib.pyplot as plt\n",
    "import pandas as pd\n",
    "from PIL import Image\n",
    "import tensorflow as tf\n",
    "from keras.models import Sequential, Model\n",
    "from tensorflow.keras import datasets\n",
    "from tensorflow.keras.layers import Dense\n",
    "from tensorflow.keras.utils import to_categorical\n",
    "\n",
    "from IPython import display"
   ]
  },
  {
   "cell_type": "code",
   "execution_count": null,
   "id": "51a50887",
   "metadata": {},
   "outputs": [],
   "source": [
    "(training_images, training_labels), (test_images, test_labels) = datasets.mnist.load_data()\n",
    "print(\"training_images.shape:\",training_images.shape)\n",
    "print(\"test_images.shape:\",test_images.shape)"
   ]
  },
  {
   "cell_type": "code",
   "execution_count": null,
   "id": "0d4ca1cc",
   "metadata": {},
   "outputs": [],
   "source": [
    "# 把後面二維的部分攤平成一維\n",
    "t_training_images = training_images.reshape(60000, 784)\n",
    "t_test_images = test_images.reshape(10000, 784)\n",
    "\n",
    "#轉換格式為 float32\n",
    "t_training_images = t_training_images.astype('float32')\n",
    "t_test_images = t_test_images.astype('float32')\n",
    "\n",
    "# 將數值做正規化\n",
    "t_training_images  = t_training_images / 255.0\n",
    "t_test_images = t_test_images / 255.0\n",
    "\n",
    "num_classes=10\n",
    "t_training_labels = tf.keras.utils.to_categorical(training_labels, num_classes)\n",
    "t_test_labels = tf.keras.utils.to_categorical(test_labels, num_classes)"
   ]
  },
  {
   "cell_type": "code",
   "execution_count": null,
   "id": "991293a7",
   "metadata": {},
   "outputs": [],
   "source": [
    "# 定應屬於自己的 base model\n",
    "class myModule(tf.keras.Model):\n",
    "    def __init__(self) :\n",
    "        super(myModule,self).__init__()\n",
    "        # 這邊只做一層是因為做兩層的回覆效果就不好了\n",
    "        #self.dense1 = Dense(128,activation=tf.nn.sigmoid)\n",
    "        self.dense2 = Dense(10,activation=tf.nn.softmax)\n",
    "        \n",
    "    def call(self, inputs, training=True) :\n",
    "        #x = self.dense1(inputs)\n",
    "        #x = self.dense2(x)\n",
    "        x = self.dense2(inputs)\n",
    "        return x\n",
    "    \n",
    "    # 這邊在模型內定義一個 function, 傳入輸入資料跟標籤會回傳當下 gradient\n",
    "    def gradient(self,x,y) :\n",
    "        with tf.GradientTape() as tape:\n",
    "            predict = self(x)            \n",
    "            tape.watch(self.weights)\n",
    "            loss = tf.reduce_mean(tf.losses.categorical_crossentropy(predict, y))\n",
    "            g = tape.gradient(loss, self.weights)\n",
    "        \n",
    "        # 以下只是把梯度所有資料串接成一個很長的 1 x N 陣列\n",
    "        gradient_all = tf.reshape(g[0], (1,-1))        \n",
    "        for grad in g[1:]:\n",
    "            gradient_all = tf.concat([gradient_all, tf.reshape(grad, (1,-1))], axis=-1)\n",
    "        return gradient_all\n",
    "        \n",
    "\n",
    "my_model = myModule()"
   ]
  },
  {
   "cell_type": "code",
   "execution_count": null,
   "id": "9afde108",
   "metadata": {},
   "outputs": [],
   "source": [
    "# 編譯模型, 並輸出內部數值\n",
    "my_model.compile(optimizer = tf.optimizers.Adam(),\n",
    "              loss = 'categorical_crossentropy',\n",
    "              metrics=['accuracy'])"
   ]
  },
  {
   "cell_type": "code",
   "execution_count": null,
   "id": "1a85ed26",
   "metadata": {},
   "outputs": [],
   "source": [
    "my_model.fit(t_training_images, t_training_labels, epochs=10, batch_size=128)"
   ]
  },
  {
   "cell_type": "code",
   "execution_count": null,
   "id": "b74107e3",
   "metadata": {},
   "outputs": [],
   "source": [
    "loss, acc = my_model.evaluate(t_test_images, t_test_labels, batch_size=128)\n",
    "print(\"loss rate:\", loss, \" accuracy: \" , (100.0 * acc))"
   ]
  },
  {
   "cell_type": "code",
   "execution_count": null,
   "id": "2b99e574",
   "metadata": {},
   "outputs": [],
   "source": [
    "# 這邊要注意 Model subclassing 儲存的格式以及缺點\n",
    "my_model.save('mnist_basic_model',save_format='tf')\n",
    "#my_model.dense1.trainable=False\n",
    "my_model.dense2.trainable=False"
   ]
  },
  {
   "cell_type": "code",
   "execution_count": null,
   "id": "5a49c726",
   "metadata": {},
   "outputs": [],
   "source": [
    "# 這個是我們要還原的目標, 利用輸入資料跟標籤得到他的梯度資料\n",
    "test_index = 0\n",
    "\n",
    "plt.imshow(test_images[test_index],cmap='gray')\n",
    "print(test_labels[test_index])\n",
    "\n",
    "target_gradient = my_model.gradient(t_test_images[test_index].reshape((-1,784)),t_test_labels[test_index].reshape(-1,10))"
   ]
  },
  {
   "cell_type": "code",
   "execution_count": null,
   "id": "9e99aa7e",
   "metadata": {},
   "outputs": [],
   "source": [
    "class DeepLeakage(tf.keras.Model) :\n",
    "    def __init__(self,base_model) :\n",
    "        super(DeepLeakage,self).__init__()\n",
    "        # 宣告兩個 Dense , 一個負責圖形輸入, 一個負責判斷標籤\n",
    "        self.dense1 = Dense(784, use_bias=False, kernel_initializer=tf.keras.initializers.RandomUniform(0, 1))\n",
    "        self.dense2 = Dense(10, activation=\"softmax\", use_bias=False, kernel_initializer=tf.keras.initializers.Ones())\n",
    "        self.base_model = base_model\n",
    "    \n",
    "    def call(self, inputs) :\n",
    "        # 這邊使用 functional API 方式讓一個輸入串接兩個 Dense\n",
    "        x = self.dense1(inputs)\n",
    "        y = self.dense2(inputs)\n",
    "        return self.base_model.gradient(x,y)     "
   ]
  },
  {
   "cell_type": "code",
   "execution_count": null,
   "id": "d7ce51ed",
   "metadata": {},
   "outputs": [],
   "source": [
    "model = DeepLeakage(my_model)\n",
    "model.compile(optimizer=\"adam\", loss=\"mse\")"
   ]
  },
  {
   "cell_type": "code",
   "execution_count": null,
   "id": "3c13ffd1",
   "metadata": {},
   "outputs": [],
   "source": [
    "def train_itertions(model, g, itertions=100000, interval=10):\n",
    "    model.dense1(np.ones((1,1)))\n",
    "    for i in range(itertions):\n",
    "        if i%interval==0:\n",
    "            plt.clf()\n",
    "            plt.imshow(model.dense1.weights[0].numpy()[0].reshape(28, 28),cmap='gray')\n",
    "            plt.axis('off')\n",
    "\n",
    "            display.clear_output(wait=True)\n",
    "            display.display(plt.gcf())\n",
    "        loss = model.train_on_batch(np.ones((1, 1)), y=g)"
   ]
  },
  {
   "cell_type": "code",
   "execution_count": null,
   "id": "0a57f022",
   "metadata": {},
   "outputs": [],
   "source": [
    "train_itertions(model, g=target_gradient.numpy(), itertions=2000, interval=10)"
   ]
  }
 ],
 "metadata": {
  "kernelspec": {
   "display_name": "Python 3 (ipykernel)",
   "language": "python",
   "name": "python3"
  },
  "language_info": {
   "codemirror_mode": {
    "name": "ipython",
    "version": 3
   },
   "file_extension": ".py",
   "mimetype": "text/x-python",
   "name": "python",
   "nbconvert_exporter": "python",
   "pygments_lexer": "ipython3",
   "version": "3.9.19"
  }
 },
 "nbformat": 4,
 "nbformat_minor": 5
}
