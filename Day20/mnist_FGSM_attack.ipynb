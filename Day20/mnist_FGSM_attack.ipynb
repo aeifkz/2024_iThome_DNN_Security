{
 "cells": [
  {
   "cell_type": "code",
   "execution_count": null,
   "id": "4b61f92a",
   "metadata": {},
   "outputs": [],
   "source": [
    "import os\n",
    "import numpy as np\n",
    "import matplotlib.pyplot as plt\n",
    "import pandas as pd\n",
    "from PIL import Image\n",
    "import tensorflow as tf\n",
    "from keras.models import Sequential\n",
    "from tensorflow.keras import datasets\n",
    "from tensorflow.keras.layers import Dense"
   ]
  },
  {
   "cell_type": "code",
   "execution_count": null,
   "id": "416f7682",
   "metadata": {},
   "outputs": [],
   "source": [
    "# 開啟萃取圖檔稍微看一下樣子\n",
    "img = Image.open(\"test.bmp\")\n",
    "test_data = np.asarray(img)\n",
    "plt.imshow(test_data,cmap='gray')\n",
    "img.close()\n",
    "\n",
    "hack_img = test_data"
   ]
  },
  {
   "cell_type": "code",
   "execution_count": null,
   "id": "5459799d",
   "metadata": {},
   "outputs": [],
   "source": [
    "# 載入原本的模組\n",
    "load_model = tf.keras.models.load_model('.\\\\mnist_basic_model.h5')\n",
    "load_model.summary()"
   ]
  },
  {
   "cell_type": "code",
   "execution_count": null,
   "id": "81745869",
   "metadata": {},
   "outputs": [],
   "source": [
    "# 想辦法透過 FGSM 演算法針對載入的圖檔做出生成式對抗樣本\n",
    "\n",
    "# 定義圖片標籤\n",
    "hack_label = 3\n",
    "num_classes=10\n",
    "hack_label = tf.keras.utils.to_categorical(hack_label, num_classes)\n",
    "hack_label = tf.reshape(hack_label,[1,10])\n",
    "\n",
    "#轉換輸入圖片\n",
    "hack_data = hack_img.reshape(1,784)\n",
    "hack_data = hack_data.astype('float32')\n",
    "hack_data  = hack_data / 255.0\n",
    "\n",
    "inputs_tf = tf.convert_to_tensor(hack_data)\n",
    "labels_tf = tf.convert_to_tensor(hack_label)"
   ]
  },
  {
   "cell_type": "code",
   "execution_count": null,
   "id": "615d7b36",
   "metadata": {},
   "outputs": [],
   "source": [
    "with tf.GradientTape() as tape:\n",
    "    tape.watch(inputs_tf)\n",
    "    logits = load_model(inputs_tf, training=False)\n",
    "    loss = tf.keras.losses.categorical_crossentropy(labels_tf, logits)    \n",
    "\n",
    "# 實作這種梯度下降的都先稍微看一下有沒有數值, 如果都是 0 有很高的概率做錯了\n",
    "gradient = tape.gradient(loss, inputs_tf)    \n",
    "print(\"gradient:\",gradient)"
   ]
  },
  {
   "cell_type": "code",
   "execution_count": null,
   "id": "76f1ac36",
   "metadata": {},
   "outputs": [],
   "source": [
    "gradient_signs = tf.sign(gradient)\n",
    "print(\"gradient:\",gradient_signs)"
   ]
  },
  {
   "cell_type": "code",
   "execution_count": null,
   "id": "4bf2e65f",
   "metadata": {},
   "outputs": [],
   "source": [
    "# 這個是暴力測試出來的\n",
    "epsilon = 0.06\n",
    "perturbed_inputs = tf.add(inputs_tf, epsilon * gradient_signs)\n",
    "print(perturbed_inputs)"
   ]
  },
  {
   "cell_type": "code",
   "execution_count": null,
   "id": "b6004d95",
   "metadata": {},
   "outputs": [],
   "source": [
    "# Clip the perturbed inputs to ensure they stay within the valid range (0 to 1)\n",
    "# 把修改後的像素壓在合理的範圍內, 因為像素不接受負的數值\n",
    "perturbed_inputs = tf.clip_by_value(perturbed_inputs, 0, 1)\n",
    "print(perturbed_inputs)\n",
    "\n",
    "hack_img = perturbed_inputs.numpy()\n",
    "hack_img = hack_img*255\n",
    "hack_img = hack_img.reshape(28,28)"
   ]
  },
  {
   "cell_type": "code",
   "execution_count": null,
   "id": "fb5426f3",
   "metadata": {},
   "outputs": [],
   "source": [
    "hack_img = hack_img.astype(np.uint8)\n",
    "im = Image.fromarray(hack_img)\n",
    "im.save(\"hack.bmp\")\n",
    "\n",
    "test_data = np.asarray(hack_img)\n",
    "plt.imshow(test_data,cmap='gray')"
   ]
  }
 ],
 "metadata": {
  "kernelspec": {
   "display_name": "Python 3 (ipykernel)",
   "language": "python",
   "name": "python3"
  },
  "language_info": {
   "codemirror_mode": {
    "name": "ipython",
    "version": 3
   },
   "file_extension": ".py",
   "mimetype": "text/x-python",
   "name": "python",
   "nbconvert_exporter": "python",
   "pygments_lexer": "ipython3",
   "version": "3.9.19"
  }
 },
 "nbformat": 4,
 "nbformat_minor": 5
}
