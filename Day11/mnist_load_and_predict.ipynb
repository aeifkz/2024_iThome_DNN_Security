{
 "cells": [
  {
   "cell_type": "code",
   "execution_count": null,
   "id": "ef7971f9",
   "metadata": {},
   "outputs": [],
   "source": [
    "import os\n",
    "import numpy as np\n",
    "import matplotlib.pyplot as plt\n",
    "import pandas as pd\n",
    "import tensorflow as tf\n",
    "from PIL import Image\n",
    "from keras.models import Sequential\n",
    "from tensorflow.keras import datasets\n",
    "from tensorflow.keras.layers import Dense"
   ]
  },
  {
   "cell_type": "code",
   "execution_count": null,
   "id": "6cedb4fd",
   "metadata": {},
   "outputs": [],
   "source": [
    "load_model = tf.keras.models.load_model('.\\\\mnist_basic_model.h5')\n",
    "load_model.summary()"
   ]
  },
  {
   "cell_type": "code",
   "execution_count": null,
   "id": "e59028ba",
   "metadata": {},
   "outputs": [],
   "source": [
    "# 開啟萃取圖檔稍微看一下樣子\n",
    "img = Image.open(\"hack.bmp\")\n",
    "test_data = np.asarray(img)\n",
    "plt.imshow(test_data,cmap='gray')\n",
    "img.close()"
   ]
  },
  {
   "cell_type": "code",
   "execution_count": null,
   "id": "762aa632",
   "metadata": {},
   "outputs": [],
   "source": [
    "# print(\"shape:\",test_data.shape)\n",
    "# test_data = test_data.astype('float32')\n",
    "# print(\"data:\\n\",test_data)"
   ]
  },
  {
   "cell_type": "code",
   "execution_count": null,
   "id": "e111e4d6",
   "metadata": {},
   "outputs": [],
   "source": [
    "t_test_data = test_data.reshape(1,784)\n",
    "t_test_data = t_test_data.astype('float32')\n",
    "t_test_data  = t_test_data / 255.0"
   ]
  },
  {
   "cell_type": "code",
   "execution_count": null,
   "id": "0ff3bfe3",
   "metadata": {},
   "outputs": [],
   "source": [
    "# print(\"shape:\",t_test_data.shape)\n",
    "# print(\"data:\\n\",t_test_data)"
   ]
  },
  {
   "cell_type": "code",
   "execution_count": null,
   "id": "679d58e3",
   "metadata": {},
   "outputs": [],
   "source": [
    "res = load_model.predict(t_test_data)\n",
    "print(\"model result:\",res)\n",
    "print(\"predict value:\",np.argmax(res))"
   ]
  }
 ],
 "metadata": {
  "kernelspec": {
   "display_name": "Python 3 (ipykernel)",
   "language": "python",
   "name": "python3"
  },
  "language_info": {
   "codemirror_mode": {
    "name": "ipython",
    "version": 3
   },
   "file_extension": ".py",
   "mimetype": "text/x-python",
   "name": "python",
   "nbconvert_exporter": "python",
   "pygments_lexer": "ipython3",
   "version": "3.9.19"
  }
 },
 "nbformat": 4,
 "nbformat_minor": 5
}
