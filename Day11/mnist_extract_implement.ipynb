{
 "cells": [
  {
   "cell_type": "code",
   "execution_count": null,
   "id": "4b61f92a",
   "metadata": {},
   "outputs": [],
   "source": [
    "import os\n",
    "import numpy as np\n",
    "import matplotlib.pyplot as plt\n",
    "import pandas as pd\n",
    "from PIL import Image\n",
    "import tensorflow as tf\n",
    "from keras.layers import Input, Dense\n",
    "from keras.models import Sequential, Model\n",
    "from tensorflow.keras import datasets\n",
    "from tensorflow.keras.layers import Dense"
   ]
  },
  {
   "cell_type": "code",
   "execution_count": null,
   "id": "416f7682",
   "metadata": {},
   "outputs": [],
   "source": [
    "hack_img = np.ones((28,28))*0"
   ]
  },
  {
   "cell_type": "code",
   "execution_count": null,
   "id": "5459799d",
   "metadata": {},
   "outputs": [],
   "source": [
    "# 載入原本的模組\n",
    "load_model = tf.keras.models.load_model('.\\\\mnist_basic_model.h5')\n",
    "load_model.trainable = False\n",
    "load_model.summary()"
   ]
  },
  {
   "cell_type": "code",
   "execution_count": null,
   "id": "81745869",
   "metadata": {},
   "outputs": [],
   "source": [
    "# 想辦法從模型中萃取出預設為 9 的輸入資料\n",
    "# 依照 AutoEncoder 想法, 建立一個輸入長度為10的模型, 在串接一個 784 的 Dense\n",
    "attack_vector = Input(shape=(10,))\n",
    "output_vector = Dense(28 * 28, activation='relu', input_dim=10)(attack_vector)\n",
    "attack_model = Model(inputs=attack_vector, outputs=output_vector)\n",
    "attack_model.summary()\n",
    "\n",
    "attack_model.save('attack_model.h5',save_format='h5')"
   ]
  },
  {
   "cell_type": "code",
   "execution_count": null,
   "id": "0d750e71",
   "metadata": {},
   "outputs": [],
   "source": [
    "# 把兩個模型接再一起\n",
    "target_output = load_model(output_vector)\n",
    "combined_model = Model(inputs=attack_vector, outputs=target_output)\n",
    "combined_model.compile(loss='binary_crossentropy', optimizer=tf.optimizers.Adam())\n",
    "combined_model.summary()\n",
    "\n",
    "combined_model.save('combined_model.h5',save_format='h5')"
   ]
  },
  {
   "cell_type": "code",
   "execution_count": null,
   "id": "7fbcb86a",
   "metadata": {},
   "outputs": [],
   "source": [
    "# 開始用 9 的資料訓練這個模型\n",
    "batch_size = 128\n",
    "total_epochs = 1000\n",
    "\n",
    "final_target = np.zeros((batch_size, 10))\n",
    "for i in range(batch_size):\n",
    "    final_target[i][9] = 0.9 + np.random.random() * 0.1\n",
    "\n",
    "\n",
    "combined_model.fit(final_target,final_target, epochs=total_epochs, batch_size=batch_size)"
   ]
  },
  {
   "cell_type": "code",
   "execution_count": null,
   "id": "fd9f4fb2",
   "metadata": {},
   "outputs": [],
   "source": [
    "hack_data = attack_model.predict(final_target[0:2])\n",
    "hack_img = np.reshape(hack_data[0],(28,28))\n",
    "\n",
    "#????"
   ]
  },
  {
   "cell_type": "code",
   "execution_count": null,
   "id": "fb5426f3",
   "metadata": {},
   "outputs": [],
   "source": [
    "hack_img = hack_img.astype(np.uint8)\n",
    "im = Image.fromarray(hack_img)\n",
    "im.save(\"hack.bmp\")\n",
    "\n",
    "test_data = np.asarray(hack_img)\n",
    "plt.imshow(test_data,cmap='gray')"
   ]
  }
 ],
 "metadata": {
  "kernelspec": {
   "display_name": "Python 3 (ipykernel)",
   "language": "python",
   "name": "python3"
  },
  "language_info": {
   "codemirror_mode": {
    "name": "ipython",
    "version": 3
   },
   "file_extension": ".py",
   "mimetype": "text/x-python",
   "name": "python",
   "nbconvert_exporter": "python",
   "pygments_lexer": "ipython3",
   "version": "3.9.19"
  }
 },
 "nbformat": 4,
 "nbformat_minor": 5
}
