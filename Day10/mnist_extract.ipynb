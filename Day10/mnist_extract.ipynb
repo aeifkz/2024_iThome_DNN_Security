{
 "cells": [
  {
   "cell_type": "code",
   "execution_count": null,
   "id": "4b61f92a",
   "metadata": {},
   "outputs": [],
   "source": [
    "import os\n",
    "import numpy as np\n",
    "import matplotlib.pyplot as plt\n",
    "import pandas as pd\n",
    "from PIL import Image\n",
    "import tensorflow as tf\n",
    "from keras.models import Sequential\n",
    "from tensorflow.keras import datasets\n",
    "from tensorflow.keras.layers import Dense"
   ]
  },
  {
   "cell_type": "code",
   "execution_count": null,
   "id": "416f7682",
   "metadata": {},
   "outputs": [],
   "source": [
    "hack_img = np.ones((28,28))*0"
   ]
  },
  {
   "cell_type": "code",
   "execution_count": null,
   "id": "5459799d",
   "metadata": {},
   "outputs": [],
   "source": [
    "# 載入原本的模組\n",
    "load_model = tf.keras.models.load_model('.\\\\mnist_basic_model.h5')\n",
    "load_model.summary()"
   ]
  },
  {
   "cell_type": "code",
   "execution_count": null,
   "id": "81745869",
   "metadata": {},
   "outputs": [],
   "source": [
    "# 想辦法從模型中萃取出預設為 9 的輸入資料, 當然你不能直接開個檔案寫一個 9 上去"
   ]
  },
  {
   "cell_type": "code",
   "execution_count": null,
   "id": "fb5426f3",
   "metadata": {},
   "outputs": [],
   "source": [
    "hack_img = hack_img.astype(np.uint8)\n",
    "im = Image.fromarray(hack_img)\n",
    "im.save(\"hack.bmp\")\n",
    "\n",
    "test_data = np.asarray(hack_img)\n",
    "plt.imshow(test_data,cmap='gray')"
   ]
  }
 ],
 "metadata": {
  "kernelspec": {
   "display_name": "Python 3 (ipykernel)",
   "language": "python",
   "name": "python3"
  },
  "language_info": {
   "codemirror_mode": {
    "name": "ipython",
    "version": 3
   },
   "file_extension": ".py",
   "mimetype": "text/x-python",
   "name": "python",
   "nbconvert_exporter": "python",
   "pygments_lexer": "ipython3",
   "version": "3.9.19"
  }
 },
 "nbformat": 4,
 "nbformat_minor": 5
}
