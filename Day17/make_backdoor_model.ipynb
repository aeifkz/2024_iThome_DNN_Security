{
 "cells": [
  {
   "cell_type": "code",
   "execution_count": null,
   "id": "a7d89a3a",
   "metadata": {},
   "outputs": [],
   "source": [
    "import os\n",
    "import numpy as np\n",
    "import matplotlib.pyplot as plt\n",
    "import pandas as pd\n",
    "from PIL import Image\n",
    "import tensorflow as tf\n",
    "from keras.models import Sequential, Model\n",
    "from tensorflow.keras import datasets\n",
    "from tensorflow.keras.layers import Dense, Input, Flatten, Concatenate\n"
   ]
  },
  {
   "cell_type": "code",
   "execution_count": null,
   "id": "c10909a1",
   "metadata": {},
   "outputs": [],
   "source": [
    "basic_model = tf.keras.models.load_model('mnist_basic_model.h5')\n",
    "basic_model.summary()"
   ]
  },
  {
   "cell_type": "code",
   "execution_count": null,
   "id": "9e97e84f",
   "metadata": {},
   "outputs": [],
   "source": [
    "backdoor_model = tf.keras.models.load_model('mnist_backdoor_model.h5')\n",
    "backdoor_model.summary()"
   ]
  },
  {
   "cell_type": "code",
   "execution_count": null,
   "id": "feff5e9c",
   "metadata": {},
   "outputs": [],
   "source": [
    "# 新增一個 input \n",
    "input = Input(shape=(784,))"
   ]
  },
  {
   "cell_type": "code",
   "execution_count": null,
   "id": "d2990313",
   "metadata": {},
   "outputs": [],
   "source": [
    "basic_output = basic_model(input)\n",
    "backdoor_output = backdoor_model(input)\n",
    "\n",
    "merge = Concatenate()([backdoor_output,basic_output])\n",
    "final_layer = Dense(10)\n",
    "final_output = final_layer(merge)\n"
   ]
  },
  {
   "cell_type": "code",
   "execution_count": null,
   "id": "e72800dc",
   "metadata": {},
   "outputs": [],
   "source": [
    "all_model = Model(inputs=input, outputs=final_output)"
   ]
  },
  {
   "cell_type": "code",
   "execution_count": null,
   "id": "e3e7a247",
   "metadata": {},
   "outputs": [],
   "source": [
    "all_model.compile(optimizer = tf.optimizers.Adam(),\n",
    "              loss = 'sparse_categorical_crossentropy',\n",
    "              metrics=['accuracy'])"
   ]
  },
  {
   "cell_type": "code",
   "execution_count": null,
   "id": "3a2192b8",
   "metadata": {},
   "outputs": [],
   "source": [
    "final_layer.get_weights()"
   ]
  },
  {
   "cell_type": "code",
   "execution_count": null,
   "id": "53d478b7",
   "metadata": {},
   "outputs": [],
   "source": [
    "# 這邊要注意參數矩陣紀錄的方式是有做轉置的\n",
    "final_layer.set_weights([ np.array( [\n",
    "    [0., 0., 0., 0., 0., 0., 0., 0., 0., 0.],\n",
    "    [0., 0., 0., 0., 0., 0., 0., 0., 0., 10.],\n",
    "    [1., 0., 0., 0., 0., 0., 0., 0., 0., 0.],\n",
    "    [0., 1., 0., 0., 0., 0., 0., 0., 0., 0.],\n",
    "    [0., 0., 1., 0., 0., 0., 0., 0., 0., 0.],\n",
    "    [0., 0., 0., 1., 0., 0., 0., 0., 0., 0.],\n",
    "    [0., 0., 0., 0., 1., 0., 0., 0., 0., 0.],\n",
    "    [0., 0., 0., 0., 0., 1., 0., 0., 0., 0.],\n",
    "    [0., 0., 0., 0., 0., 0., 1., 0., 0., 0.],\n",
    "    [0., 0., 0., 0., 0., 0., 0., 1., 0., 0.],\n",
    "    [0., 0., 0., 0., 0., 0., 0., 0., 1., 0.],\n",
    "    [0., 0., 0., 0., 0., 0., 0., 0., 0., 1.]\n",
    "]) , np.zeros(10) ])"
   ]
  },
  {
   "cell_type": "code",
   "execution_count": null,
   "id": "7348f27d",
   "metadata": {},
   "outputs": [],
   "source": [
    "final_layer.get_weights()"
   ]
  },
  {
   "cell_type": "code",
   "execution_count": null,
   "id": "beb63104",
   "metadata": {},
   "outputs": [],
   "source": [
    "all_model.save('all_model.h5')"
   ]
  },
  {
   "cell_type": "code",
   "execution_count": null,
   "id": "c5e10649",
   "metadata": {},
   "outputs": [],
   "source": [
    "# from keras.utils import plot_model\n",
    "# plot_model(all_model, to_file='model.png')"
   ]
  },
  {
   "cell_type": "code",
   "execution_count": null,
   "id": "98e58370",
   "metadata": {},
   "outputs": [],
   "source": [
    "(training_images, training_labels), (test_images, test_labels) = datasets.mnist.load_data()\n",
    "print(\"training_images.shape:\",training_images.shape)\n",
    "print(\"test_images.shape:\",test_images.shape)"
   ]
  },
  {
   "cell_type": "code",
   "execution_count": null,
   "id": "7b69459b",
   "metadata": {},
   "outputs": [],
   "source": [
    "# 將後門圖形塞到圖片中\n",
    "def install_backdoor_image(images) :\n",
    "    images[25][26] = 25\n",
    "    images[26][25] = 25\n",
    "    images[26][26] = 25\n",
    "    images[26][27] = 25\n",
    "    images[27][26] = 25\n",
    "    \n",
    "backdoor_test_images = test_images.copy()\n",
    "for i in backdoor_test_images :\n",
    "    install_backdoor_image(i)\n",
    "    \n",
    "\n",
    "t_test_images = test_images.reshape(10000, 784)\n",
    "t_backdoor_test_images = backdoor_test_images.reshape(10000, 784)\n",
    "    \n",
    "# 將數值做正規化\n",
    "t_test_images = t_test_images / 255.0\n",
    "t_backdoor_test_images = t_backdoor_test_images/255.0\n",
    "\n",
    "t_test_labels = test_labels.astype('float32')\n",
    "\n"
   ]
  },
  {
   "cell_type": "code",
   "execution_count": null,
   "id": "3c9e229c",
   "metadata": {},
   "outputs": [],
   "source": [
    "normal = all_model.predict(t_test_images)"
   ]
  },
  {
   "cell_type": "code",
   "execution_count": null,
   "id": "5a6124db",
   "metadata": {},
   "outputs": [],
   "source": [
    "backdoor = all_model.predict(t_backdoor_test_images)"
   ]
  },
  {
   "cell_type": "code",
   "execution_count": null,
   "id": "594d101d",
   "metadata": {},
   "outputs": [],
   "source": [
    "for i in range(10000) :\n",
    "    print(\"normal: \",np.argmax(normal[i]),\" backdoor:\",np.argmax(backdoor[i]))"
   ]
  }
 ],
 "metadata": {
  "kernelspec": {
   "display_name": "Python 3 (ipykernel)",
   "language": "python",
   "name": "python3"
  },
  "language_info": {
   "codemirror_mode": {
    "name": "ipython",
    "version": 3
   },
   "file_extension": ".py",
   "mimetype": "text/x-python",
   "name": "python",
   "nbconvert_exporter": "python",
   "pygments_lexer": "ipython3",
   "version": "3.9.19"
  }
 },
 "nbformat": 4,
 "nbformat_minor": 5
}
