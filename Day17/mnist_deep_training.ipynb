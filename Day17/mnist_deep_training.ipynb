{
 "cells": [
  {
   "cell_type": "code",
   "execution_count": null,
   "id": "f67bd73f",
   "metadata": {},
   "outputs": [],
   "source": [
    "import os\n",
    "import numpy as np\n",
    "import matplotlib.pyplot as plt\n",
    "import pandas as pd\n",
    "from PIL import Image\n",
    "import tensorflow as tf\n",
    "from keras.models import Sequential\n",
    "from tensorflow.keras import datasets\n",
    "from tensorflow.keras.layers import Dense"
   ]
  },
  {
   "cell_type": "code",
   "execution_count": null,
   "id": "51a50887",
   "metadata": {},
   "outputs": [],
   "source": [
    "(training_images, training_labels), (test_images, test_labels) = datasets.mnist.load_data()\n",
    "print(\"training_images.shape:\",training_images.shape)\n",
    "print(\"test_images.shape:\",test_images.shape)"
   ]
  },
  {
   "cell_type": "code",
   "execution_count": null,
   "id": "0d4ca1cc",
   "metadata": {},
   "outputs": [],
   "source": [
    "# 把後面二維的部分攤平成一維\n",
    "training_images = training_images.reshape(60000, 784)\n",
    "test_images = test_images.reshape(10000, 784)\n",
    "\n",
    "#轉換格式為 float32\n",
    "training_images = training_images.astype('float32')\n",
    "test_images = test_images.astype('float32')\n",
    "\n",
    "# 將數值做正規化\n",
    "training_images  = training_images / 255.0\n",
    "test_images = test_images / 255.0\n",
    "\n",
    "#num_classes=10\n",
    "#training_labels = tf.keras.utils.to_categorical(training_labels, num_classes)\n",
    "#test_labels = tf.keras.utils.to_categorical(test_labels, num_classes)\n"
   ]
  },
  {
   "cell_type": "code",
   "execution_count": null,
   "id": "065c2d9c",
   "metadata": {},
   "outputs": [],
   "source": [
    "# 建立屬於自己的 model\n",
    "model = Sequential()\n",
    "model.add(Dense(128, input_dim=784, activation=tf.nn.relu))\n",
    "model.add(Dense(10, activation=tf.nn.softmax))"
   ]
  },
  {
   "cell_type": "code",
   "execution_count": null,
   "id": "9afde108",
   "metadata": {},
   "outputs": [],
   "source": [
    "# 編譯模型, 並輸出內部數值\n",
    "# model.compile(optimizer = tf.optimizers.Adam(),\n",
    "#               loss = 'categorical_crossentropy',\n",
    "#               metrics=['accuracy'])\n",
    "\n",
    "model.compile(optimizer = tf.optimizers.Adam(),\n",
    "              loss = 'sparse_categorical_crossentropy',\n",
    "              metrics=['accuracy'])\n",
    "\n",
    "model.summary()"
   ]
  },
  {
   "cell_type": "code",
   "execution_count": null,
   "id": "3e8b21a8",
   "metadata": {},
   "outputs": [],
   "source": [
    "training_labels.shape"
   ]
  },
  {
   "cell_type": "code",
   "execution_count": null,
   "id": "1a85ed26",
   "metadata": {},
   "outputs": [],
   "source": [
    "model.fit(training_images, training_labels, epochs=20, batch_size=128)"
   ]
  },
  {
   "cell_type": "code",
   "execution_count": null,
   "id": "b74107e3",
   "metadata": {},
   "outputs": [],
   "source": [
    "loss, acc = model.evaluate(test_images, test_labels, batch_size=128)\n",
    "print(\"loss rate:\", loss, \" accuracy: \" , (100.0 * acc))"
   ]
  },
  {
   "cell_type": "code",
   "execution_count": null,
   "id": "2b99e574",
   "metadata": {},
   "outputs": [],
   "source": [
    "model.save('mnist_basic_model.h5',save_format='h5')"
   ]
  }
 ],
 "metadata": {
  "kernelspec": {
   "display_name": "Python 3 (ipykernel)",
   "language": "python",
   "name": "python3"
  },
  "language_info": {
   "codemirror_mode": {
    "name": "ipython",
    "version": 3
   },
   "file_extension": ".py",
   "mimetype": "text/x-python",
   "name": "python",
   "nbconvert_exporter": "python",
   "pygments_lexer": "ipython3",
   "version": "3.9.19"
  }
 },
 "nbformat": 4,
 "nbformat_minor": 5
}
