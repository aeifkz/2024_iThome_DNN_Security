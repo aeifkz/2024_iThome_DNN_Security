{
 "cells": [
  {
   "cell_type": "code",
   "execution_count": null,
   "id": "f67bd73f",
   "metadata": {},
   "outputs": [],
   "source": [
    "import os\n",
    "import numpy as np\n",
    "import matplotlib.pyplot as plt\n",
    "import pandas as pd\n",
    "import datetime\n",
    "from PIL import Image\n",
    "import tensorflow as tf\n",
    "from keras.models import Sequential\n",
    "from tensorflow.keras import datasets\n",
    "from tensorflow.keras.layers import Dense"
   ]
  },
  {
   "cell_type": "code",
   "execution_count": null,
   "id": "065c2d9c",
   "metadata": {},
   "outputs": [],
   "source": [
    "# 建立屬於自己的 model\n",
    "model = Sequential()\n",
    "model.add(Dense(2, input_dim=2))"
   ]
  },
  {
   "cell_type": "code",
   "execution_count": null,
   "id": "9afde108",
   "metadata": {},
   "outputs": [],
   "source": [
    "# 先隨便設定一些 function 後進行 compile\n",
    "model.compile(optimizer = tf.optimizers.Adam(),\n",
    "              loss = 'sparse_categorical_crossentropy',\n",
    "              metrics=['accuracy'])\n",
    "model.summary()"
   ]
  },
  {
   "cell_type": "code",
   "execution_count": null,
   "id": "3e8b21a8",
   "metadata": {},
   "outputs": [],
   "source": [
    "# 因為只有一個 layer, 所以直接顯示第 0 個 layer 的參數來看看\n",
    "print(model.layers[0].get_weights())\n",
    "print(type(model.layers[0].get_weights()[0]))\n",
    "print(type(model.layers[0].get_weights()[1]))"
   ]
  },
  {
   "cell_type": "code",
   "execution_count": null,
   "id": "b06cee89",
   "metadata": {},
   "outputs": [],
   "source": [
    "# 設定單位矩陣(對角線為1), 偏移參數為 0\n",
    "weight = [ np.array([ [1,0], [0,1] ]), np.array([0,0]) ]\n",
    "model.layers[0].set_weights(weight)"
   ]
  },
  {
   "cell_type": "code",
   "execution_count": null,
   "id": "9831a1fb",
   "metadata": {},
   "outputs": [],
   "source": [
    "print(model.layers[0].get_weights())"
   ]
  },
  {
   "cell_type": "code",
   "execution_count": null,
   "id": "5aa6b40f",
   "metadata": {},
   "outputs": [],
   "source": [
    "# 這個單純的模型就只是輸入甚麼，輸出就是甚麼\n",
    "for i in range(-2,2) :\n",
    "    for j in range(-2,2) :\n",
    "        print(\"({},{}) = {}\".format(i,j,model.predict([[i,j]]) ))"
   ]
  },
  {
   "cell_type": "code",
   "execution_count": null,
   "id": "731818ce",
   "metadata": {},
   "outputs": [],
   "source": [
    "model.save('linear_model.h5',save_format='h5')"
   ]
  }
 ],
 "metadata": {
  "kernelspec": {
   "display_name": "Python 3 (ipykernel)",
   "language": "python",
   "name": "python3"
  },
  "language_info": {
   "codemirror_mode": {
    "name": "ipython",
    "version": 3
   },
   "file_extension": ".py",
   "mimetype": "text/x-python",
   "name": "python",
   "nbconvert_exporter": "python",
   "pygments_lexer": "ipython3",
   "version": "3.9.19"
  }
 },
 "nbformat": 4,
 "nbformat_minor": 5
}
