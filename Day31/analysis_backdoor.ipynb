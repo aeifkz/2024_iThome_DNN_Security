{
 "cells": [
  {
   "cell_type": "code",
   "execution_count": null,
   "id": "68e39159",
   "metadata": {},
   "outputs": [],
   "source": [
    "import dis\n",
    "import base64\n",
    "import marshal"
   ]
  },
  {
   "cell_type": "code",
   "execution_count": null,
   "id": "2ff46c88",
   "metadata": {},
   "outputs": [],
   "source": [
    "base64_payload = \"4wEAAAAAAAAAAAAAAAMAAAADAAAAQwAAAHMeAAAAZAFkAGwAfQFkAWQAbAF9AnwCoAJkAqEBAQB8 AFMAKQNO6QAAAAB6CGNhbGMuZXhlKQPaCnN1YnByb2Nlc3PaAm9z2gZzeXN0ZW0pA9oBeHICAAAA cgMAAACpAHIGAAAA+j9DOi9Vc2Vycy9hZWlma3ovQXBwRGF0YS9Mb2NhbC9UZW1wL2lweWtlcm5l bF8xOTc3Mi8yMzAwNzIyNzIucHnaB2V4cGxvaXQBAAAAcwYAAAAAARADCgE=\""
   ]
  },
  {
   "cell_type": "code",
   "execution_count": null,
   "id": "da29568f",
   "metadata": {},
   "outputs": [],
   "source": [
    "payload = base64.b64decode(base64_payload)"
   ]
  },
  {
   "cell_type": "code",
   "execution_count": null,
   "id": "2fe07085",
   "metadata": {},
   "outputs": [],
   "source": [
    "unmarshal_payload = marshal.loads(payload)"
   ]
  },
  {
   "cell_type": "code",
   "execution_count": null,
   "id": "513117a4",
   "metadata": {},
   "outputs": [],
   "source": [
    "dis.dis(unmarshal_payload)"
   ]
  },
  {
   "cell_type": "code",
   "execution_count": null,
   "id": "230149a0",
   "metadata": {},
   "outputs": [],
   "source": [
    "dis.show_code(unmarshal_payload)"
   ]
  },
  {
   "cell_type": "markdown",
   "id": "f08294eb",
   "metadata": {},
   "source": [
    "------------"
   ]
  },
  {
   "cell_type": "code",
   "execution_count": null,
   "id": "5031202a",
   "metadata": {},
   "outputs": [],
   "source": [
    "import importlib, sys"
   ]
  },
  {
   "cell_type": "code",
   "execution_count": null,
   "id": "1e79872c",
   "metadata": {},
   "outputs": [],
   "source": [
    "pyc_data = importlib._bootstrap_external._code_to_timestamp_pyc(unmarshal_payload)"
   ]
  },
  {
   "cell_type": "code",
   "execution_count": null,
   "id": "d0ad563f",
   "metadata": {},
   "outputs": [],
   "source": [
    "with open('file.pyc', 'wb') as f:\n",
    "    f.write(pyc_data)"
   ]
  }
 ],
 "metadata": {
  "kernelspec": {
   "display_name": "Python 3 (ipykernel)",
   "language": "python",
   "name": "python3"
  },
  "language_info": {
   "codemirror_mode": {
    "name": "ipython",
    "version": 3
   },
   "file_extension": ".py",
   "mimetype": "text/x-python",
   "name": "python",
   "nbconvert_exporter": "python",
   "pygments_lexer": "ipython3",
   "version": "3.9.19"
  }
 },
 "nbformat": 4,
 "nbformat_minor": 5
}
