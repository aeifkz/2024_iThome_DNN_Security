{
 "cells": [
  {
   "cell_type": "code",
   "execution_count": null,
   "id": "4b61f92a",
   "metadata": {},
   "outputs": [],
   "source": [
    "import os\n",
    "import numpy as np\n",
    "import matplotlib.pyplot as plt\n",
    "import pandas as pd\n",
    "from PIL import Image\n",
    "import tensorflow as tf\n",
    "from keras.models import Sequential\n",
    "from tensorflow.keras import datasets\n",
    "from tensorflow.keras.layers import Dense"
   ]
  },
  {
   "cell_type": "code",
   "execution_count": null,
   "id": "416f7682",
   "metadata": {},
   "outputs": [],
   "source": [
    "# 開啟萃取圖檔稍微看一下樣子\n",
    "img = Image.open(\"test.bmp\")\n",
    "test_data = np.asarray(img)\n",
    "plt.imshow(test_data,cmap='gray')\n",
    "img.close()\n",
    "\n",
    "hack_img = test_data"
   ]
  },
  {
   "cell_type": "code",
   "execution_count": null,
   "id": "5459799d",
   "metadata": {},
   "outputs": [],
   "source": [
    "# 載入原本的模組\n",
    "load_model = tf.keras.models.load_model('.\\\\mnist_basic_model.h5')\n",
    "load_model.summary()"
   ]
  },
  {
   "cell_type": "code",
   "execution_count": null,
   "id": "81745869",
   "metadata": {},
   "outputs": [],
   "source": [
    "# 想辦法透過 CW 演算法針對載入的圖檔做出生成式對抗樣本, 看能不能把這張圖變成 0~9\n",
    "\n",
    "\n"
   ]
  },
  {
   "cell_type": "code",
   "execution_count": null,
   "id": "fb5426f3",
   "metadata": {},
   "outputs": [],
   "source": [
    "hack_img = hack_img.astype(np.uint8)\n",
    "im = Image.fromarray(hack_img)\n",
    "im.save(\"hack.bmp\")\n",
    "\n",
    "test_data = np.asarray(hack_img)\n",
    "plt.imshow(test_data,cmap='gray')"
   ]
  }
 ],
 "metadata": {
  "kernelspec": {
   "display_name": "Python 3 (ipykernel)",
   "language": "python",
   "name": "python3"
  },
  "language_info": {
   "codemirror_mode": {
    "name": "ipython",
    "version": 3
   },
   "file_extension": ".py",
   "mimetype": "text/x-python",
   "name": "python",
   "nbconvert_exporter": "python",
   "pygments_lexer": "ipython3",
   "version": "3.9.19"
  }
 },
 "nbformat": 4,
 "nbformat_minor": 5
}
