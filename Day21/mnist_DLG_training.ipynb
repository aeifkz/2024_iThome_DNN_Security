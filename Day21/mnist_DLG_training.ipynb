{
 "cells": [
  {
   "cell_type": "code",
   "execution_count": null,
   "id": "f67bd73f",
   "metadata": {},
   "outputs": [],
   "source": [
    "import os\n",
    "import numpy as np\n",
    "import matplotlib.pyplot as plt\n",
    "import pandas as pd\n",
    "from PIL import Image\n",
    "import tensorflow as tf\n",
    "from keras.models import Sequential, Model\n",
    "from tensorflow.keras import datasets\n",
    "from tensorflow.keras.layers import Dense\n",
    "from tensorflow.keras.utils import to_categorical\n",
    "\n",
    "from IPython import display"
   ]
  },
  {
   "cell_type": "code",
   "execution_count": null,
   "id": "51a50887",
   "metadata": {},
   "outputs": [],
   "source": [
    "(training_images, training_labels), (test_images, test_labels) = datasets.mnist.load_data()\n",
    "print(\"training_images.shape:\",training_images.shape)\n",
    "print(\"test_images.shape:\",test_images.shape)"
   ]
  },
  {
   "cell_type": "code",
   "execution_count": null,
   "id": "0d4ca1cc",
   "metadata": {},
   "outputs": [],
   "source": [
    "# 把後面二維的部分攤平成一維\n",
    "t_training_images = training_images.reshape(60000, 784)\n",
    "t_test_images = test_images.reshape(10000, 784)\n",
    "\n",
    "#轉換格式為 float32\n",
    "t_training_images = t_training_images.astype('float32')\n",
    "t_test_images = t_test_images.astype('float32')\n",
    "\n",
    "# 將數值做正規化\n",
    "t_training_images  = t_training_images / 255.0\n",
    "t_test_images = t_test_images / 255.0\n",
    "\n",
    "num_classes=10\n",
    "t_training_labels = tf.keras.utils.to_categorical(training_labels, num_classes)\n",
    "t_test_labels = tf.keras.utils.to_categorical(test_labels, num_classes)"
   ]
  },
  {
   "cell_type": "code",
   "execution_count": null,
   "id": "991293a7",
   "metadata": {},
   "outputs": [],
   "source": [
    "# 定應屬於自己的 base model\n",
    "class myModule(tf.keras.Model):\n",
    "    def __init__(self) :\n",
    "        super(myModule,self).__init__()\n",
    "        # 這邊只做一層是因為做兩層的回覆效果就不好了\n",
    "        #self.dense1 = Dense(128,activation=tf.nn.sigmoid)\n",
    "        self.dense2 = Dense(10,activation=tf.nn.softmax)\n",
    "        \n",
    "    def call(self, inputs, training=True) :\n",
    "        #x = self.dense1(inputs)\n",
    "        #x = self.dense2(x)\n",
    "        x = self.dense2(inputs)\n",
    "        return x\n",
    "    \n",
    "    # 這邊在模型內定義一個 function, 傳入輸入資料跟標籤會回傳當下 gradient\n",
    "        \n",
    "\n",
    "my_model = myModule()"
   ]
  },
  {
   "cell_type": "code",
   "execution_count": null,
   "id": "9afde108",
   "metadata": {},
   "outputs": [],
   "source": [
    "# 編譯模型, 並輸出內部數值\n",
    "my_model.compile(optimizer = tf.optimizers.Adam(),\n",
    "              loss = 'categorical_crossentropy',\n",
    "              metrics=['accuracy'])"
   ]
  },
  {
   "cell_type": "code",
   "execution_count": null,
   "id": "1a85ed26",
   "metadata": {},
   "outputs": [],
   "source": [
    "my_model.fit(t_training_images, t_training_labels, epochs=10, batch_size=128)"
   ]
  },
  {
   "cell_type": "code",
   "execution_count": null,
   "id": "b74107e3",
   "metadata": {},
   "outputs": [],
   "source": [
    "loss, acc = my_model.evaluate(t_test_images, t_test_labels, batch_size=128)\n",
    "print(\"loss rate:\", loss, \" accuracy: \" , (100.0 * acc))"
   ]
  },
  {
   "cell_type": "code",
   "execution_count": null,
   "id": "2b99e574",
   "metadata": {},
   "outputs": [],
   "source": [
    "# 這邊要注意 Model subclassing 儲存的格式以及缺點\n",
    "my_model.save('mnist_basic_model',save_format='tf')"
   ]
  }
 ],
 "metadata": {
  "kernelspec": {
   "display_name": "Python 3 (ipykernel)",
   "language": "python",
   "name": "python3"
  },
  "language_info": {
   "codemirror_mode": {
    "name": "ipython",
    "version": 3
   },
   "file_extension": ".py",
   "mimetype": "text/x-python",
   "name": "python",
   "nbconvert_exporter": "python",
   "pygments_lexer": "ipython3",
   "version": "3.9.19"
  }
 },
 "nbformat": 4,
 "nbformat_minor": 5
}
