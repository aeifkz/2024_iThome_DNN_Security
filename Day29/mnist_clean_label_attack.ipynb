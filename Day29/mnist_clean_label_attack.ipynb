{
 "cells": [
  {
   "cell_type": "code",
   "execution_count": null,
   "id": "4b61f92a",
   "metadata": {},
   "outputs": [],
   "source": [
    "import os\n",
    "import numpy as np\n",
    "import matplotlib.pyplot as plt\n",
    "import pandas as pd\n",
    "from PIL import Image\n",
    "import tensorflow as tf\n",
    "from keras.models import Sequential, Model\n",
    "from tensorflow.keras import datasets\n",
    "from tensorflow.keras.layers import Dense\n",
    "from keras.layers import Input, Dense"
   ]
  },
  {
   "cell_type": "code",
   "execution_count": null,
   "id": "464df0c9",
   "metadata": {},
   "outputs": [],
   "source": [
    "# 載入原本的模組\n",
    "load_model = tf.keras.models.load_model('.\\\\mnist_basic_model.h5')\n",
    "load_model.summary()"
   ]
  },
  {
   "cell_type": "code",
   "execution_count": null,
   "id": "8415a013",
   "metadata": {},
   "outputs": [],
   "source": [
    "# 這次用既有的訓練圖片來做\n",
    "(training_images, training_labels), (test_images, test_labels) = datasets.mnist.load_data()\n",
    "print(\"training_images.shape:\",training_images.shape)\n",
    "print(\"test_images.shape:\",test_images.shape)"
   ]
  },
  {
   "cell_type": "code",
   "execution_count": null,
   "id": "b4eb520c",
   "metadata": {},
   "outputs": [],
   "source": [
    "# 把後面二維的部分攤平成一維\n",
    "t_training_images = training_images.reshape(60000, 784)\n",
    "t_test_images = test_images.reshape(10000, 784)\n",
    "\n",
    "#轉換格式為 float32\n",
    "t_training_images = t_training_images.astype('float32')\n",
    "t_test_images = t_test_images.astype('float32')\n",
    "\n",
    "# 將數值做正規化\n",
    "t_training_images  = t_training_images / 255.0\n",
    "t_test_images = t_test_images / 255.0\n",
    "\n",
    "# 如果使用 sparse_categorical_crossentropy 就不需要做 One Hot Encoding \n",
    "# https://axk51013.medium.com/%E4%B8%8D%E8%A6%81%E5%86%8D%E5%81%9Aone-hot-encoding-b5126d3f8a63\n",
    "num_classes=10\n",
    "training_labels = tf.keras.utils.to_categorical(training_labels, num_classes)\n",
    "test_labels = tf.keras.utils.to_categorical(test_labels, num_classes)"
   ]
  },
  {
   "cell_type": "code",
   "execution_count": null,
   "id": "8ac05c37",
   "metadata": {},
   "outputs": [],
   "source": [
    "# 挑選一個圖形當 base , 另一個圖形當作 target\n",
    "base_index = 7\n",
    "target_index = 4\n",
    "\n",
    "fig, ax = plt.subplots(1,2)\n",
    "ax[0].set_title(np.argmax(load_model(t_training_images[base_index].reshape(1,784))))\n",
    "ax[0].imshow(training_images[base_index],cmap='gray')\n",
    "\n",
    "ax[1].set_title(np.argmax(load_model(t_training_images[target_index].reshape(1,784))))\n",
    "ax[1].imshow(training_images[target_index],cmap='gray')\n",
    "plt.show()"
   ]
  },
  {
   "cell_type": "code",
   "execution_count": null,
   "id": "81745869",
   "metadata": {},
   "outputs": [],
   "source": [
    "# 想辦法透過 Clean Label 演算法針對載入的圖檔做出生成式對抗樣本, 看能不能把這張圖變成外表看似 3, 其實內在是 9 \n",
    "\n",
    "# 拿掉最後一層的 layer\n",
    "# 參考資料 : https://www.tensorflow.org/guide/keras/sequential_model\n",
    "new_model = Sequential()\n",
    "new_model.add(Dense(128, input_dim=784, activation=tf.nn.relu))\n",
    "new_model.add(Dense(10, activation='softmax'))\n",
    "new_model.load_weights('mnist_basic_model.h5')\n",
    "\n",
    "new_model.pop()\n",
    "new_model.summary()"
   ]
  },
  {
   "cell_type": "code",
   "execution_count": null,
   "id": "309cf0b3",
   "metadata": {},
   "outputs": [],
   "source": [
    "# 先初始化一些參數\n",
    "c=0.02\n",
    "\n",
    "target_label = training_labels[target_index]\n",
    "print(target_label)\n",
    "\n",
    "t_base_image = t_training_images[base_index].reshape(1,784)\n",
    "t_target_image = t_training_images[target_index].reshape(1,784)\n",
    "\n",
    "# 這邊要看清楚, x 的初始值是給定 base image\n",
    "x = tf.Variable(t_base_image)\n",
    "\n",
    "\n",
    "beta = 6\n",
    "learning_rate=0.001"
   ]
  },
  {
   "cell_type": "code",
   "execution_count": null,
   "id": "5e3611b7",
   "metadata": {},
   "outputs": [],
   "source": [
    "for i in range(1000) :\n",
    "    \n",
    "    with tf.GradientTape(persistent=True) as tape:  \n",
    "        #loss1 = tf.keras.losses.MeanSquaredError(reduction='sum')(x,t_base_image)\n",
    "        loss2 = tf.keras.losses.MeanSquaredError(reduction='sum')(new_model(x),new_model(t_target_image))\n",
    "        #loss = loss1 + c*loss2\n",
    "        loss = loss2\n",
    "\n",
    "    gradients = tape.gradient(loss, x)    \n",
    "    #print(gradients)\n",
    "    \n",
    "    tf.optimizers.Adam(learning_rate=learning_rate).apply_gradients(zip([gradients],[x]))\n",
    "    x.assign((x+beta*learning_rate*t_base_image)/(1+beta*learning_rate))\n",
    "    \n",
    "    # 這邊依然要注意負值的問題\n",
    "    x.assign(tf.clip_by_value(x,0,1))\n",
    "    \n",
    "    if i%50 == 0 :\n",
    "        print(i)\n",
    "        #print(gradients)\n",
    "        #print('loss1:',loss1,' loss2:',loss2)\n",
    "        print('loss2:',loss2)\n",
    "        print(np.argmax(load_model(x.numpy())))\n"
   ]
  },
  {
   "cell_type": "code",
   "execution_count": null,
   "id": "380c71eb",
   "metadata": {},
   "outputs": [],
   "source": [
    "hack_img = (x*255)\n",
    "hack_img = tf.reshape(hack_img,[28,28])\n",
    "hack_img = hack_img.numpy()\n",
    "\n",
    "# 這邊要特別限制出來的數值, 應該可能會有負數\n",
    "hack_img = np.clip(hack_img,0,255)\n",
    "hack_img = hack_img.astype(np.uint8)\n",
    "im = Image.fromarray(hack_img)\n",
    "im.save(\"hack.bmp\")\n",
    "\n",
    "test_data = np.asarray(hack_img)\n",
    "plt.imshow(test_data,cmap='gray')"
   ]
  }
 ],
 "metadata": {
  "kernelspec": {
   "display_name": "Python 3 (ipykernel)",
   "language": "python",
   "name": "python3"
  },
  "language_info": {
   "codemirror_mode": {
    "name": "ipython",
    "version": 3
   },
   "file_extension": ".py",
   "mimetype": "text/x-python",
   "name": "python",
   "nbconvert_exporter": "python",
   "pygments_lexer": "ipython3",
   "version": "3.9.19"
  }
 },
 "nbformat": 4,
 "nbformat_minor": 5
}
