{
 "cells": [
  {
   "cell_type": "code",
   "execution_count": null,
   "id": "f67bd73f",
   "metadata": {},
   "outputs": [],
   "source": [
    "import os\n",
    "import numpy as np\n",
    "import matplotlib.pyplot as plt\n",
    "import pandas as pd\n",
    "import datetime\n",
    "from PIL import Image\n",
    "import tensorflow as tf\n",
    "from keras.models import Sequential\n",
    "from tensorflow.keras import datasets\n",
    "from tensorflow.keras.layers import Dense"
   ]
  },
  {
   "cell_type": "code",
   "execution_count": null,
   "id": "7891aff3",
   "metadata": {},
   "outputs": [],
   "source": [
    "# x 為介於 -50~50 中 25000 個點\n",
    "x = -50 + np.random.random((25000,1))*100\n",
    "y = 2*x+1"
   ]
  },
  {
   "cell_type": "code",
   "execution_count": null,
   "id": "065c2d9c",
   "metadata": {},
   "outputs": [],
   "source": [
    "# 建立屬於自己的 model\n",
    "model = Sequential()\n",
    "model.add(Dense(1, input_dim=1, activation='linear'))"
   ]
  },
  {
   "cell_type": "code",
   "execution_count": null,
   "id": "9afde108",
   "metadata": {},
   "outputs": [],
   "source": [
    "# 設定一些 function 後進行 compile\n",
    "model.compile(optimizer = tf.optimizers.Adam(),\n",
    "              loss='mean_squared_error')\n",
    "model.summary()"
   ]
  },
  {
   "cell_type": "code",
   "execution_count": null,
   "id": "3e8b21a8",
   "metadata": {},
   "outputs": [],
   "source": [
    "# 顯示模型的參數來看看\n",
    "old_parameter = model.get_weights()\n",
    "print(model.get_weights())"
   ]
  },
  {
   "cell_type": "code",
   "execution_count": null,
   "id": "5aa6b40f",
   "metadata": {},
   "outputs": [],
   "source": [
    "# 開始傳入資料做訓練, epochs 代表要訓練幾回, batch_size 代表一次要讀取的資料作訓練的數量\n",
    "model.fit(x, y, epochs=15, batch_size=50)"
   ]
  },
  {
   "cell_type": "code",
   "execution_count": null,
   "id": "63b438e9",
   "metadata": {},
   "outputs": [],
   "source": [
    "# 顯示訓練後模型的參數來看看\n",
    "print(old_parameter)\n",
    "print(model.get_weights())\n",
    "print(model.predict([10, 5, 200, 13]))"
   ]
  },
  {
   "cell_type": "code",
   "execution_count": null,
   "id": "731818ce",
   "metadata": {},
   "outputs": [],
   "source": [
    "model.save('linear_model.h5',save_format='h5')"
   ]
  }
 ],
 "metadata": {
  "kernelspec": {
   "display_name": "Python 3 (ipykernel)",
   "language": "python",
   "name": "python3"
  },
  "language_info": {
   "codemirror_mode": {
    "name": "ipython",
    "version": 3
   },
   "file_extension": ".py",
   "mimetype": "text/x-python",
   "name": "python",
   "nbconvert_exporter": "python",
   "pygments_lexer": "ipython3",
   "version": "3.9.19"
  }
 },
 "nbformat": 4,
 "nbformat_minor": 5
}
