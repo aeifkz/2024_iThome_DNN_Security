{
 "cells": [
  {
   "cell_type": "code",
   "execution_count": 1,
   "id": "ef7971f9",
   "metadata": {},
   "outputs": [],
   "source": [
    "import os\n",
    "import numpy as np\n",
    "import matplotlib.pyplot as plt\n",
    "import pandas as pd\n",
    "import tensorflow as tf\n",
    "from PIL import Image\n",
    "from keras.models import Sequential\n",
    "from tensorflow.keras import datasets\n",
    "from tensorflow.keras.layers import Dense"
   ]
  },
  {
   "cell_type": "code",
   "execution_count": 2,
   "id": "6cedb4fd",
   "metadata": {},
   "outputs": [
    {
     "name": "stdout",
     "output_type": "stream",
     "text": [
      "Model: \"model\"\n",
      "_________________________________________________________________\n",
      " Layer (type)                Output Shape              Param #   \n",
      "=================================================================\n",
      " input_1 (InputLayer)        [(None, 784)]             0         \n",
      "                                                                 \n",
      " dense (Dense)               (None, 128)               100480    \n",
      "                                                                 \n",
      " dense_1 (Dense)             (None, 10)                1290      \n",
      "                                                                 \n",
      "=================================================================\n",
      "Total params: 101,770\n",
      "Trainable params: 101,770\n",
      "Non-trainable params: 0\n",
      "_________________________________________________________________\n"
     ]
    }
   ],
   "source": [
    "load_model = tf.keras.models.load_model('.\\\\mnist_basic_model.h5')\n",
    "load_model.summary()"
   ]
  },
  {
   "cell_type": "code",
   "execution_count": 3,
   "id": "e59028ba",
   "metadata": {},
   "outputs": [
    {
     "data": {
      "image/png": "[encoded data removed]",
      "text/plain": [
       "<Figure size 640x480 with 1 Axes>"
      ]
     },
     "metadata": {},
     "output_type": "display_data"
    }
   ],
   "source": [
    "# 開啟萃取圖檔稍微看一下樣子\n",
    "img = Image.open(\"hack.bmp\")\n",
    "test_data = np.asarray(img)\n",
    "plt.imshow(test_data,cmap='gray')\n",
    "img.close()"
   ]
  },
  {
   "cell_type": "code",
   "execution_count": 4,
   "id": "762aa632",
   "metadata": {},
   "outputs": [],
   "source": [
    "# print(\"shape:\",test_data.shape)\n",
    "# test_data = test_data.astype('float32')\n",
    "# print(\"data:\\n\",test_data)"
   ]
  },
  {
   "cell_type": "code",
   "execution_count": 5,
   "id": "e111e4d6",
   "metadata": {},
   "outputs": [],
   "source": [
    "t_test_data = test_data.reshape(1,784)\n",
    "t_test_data = t_test_data.astype('float32')\n",
    "t_test_data  = t_test_data / 255.0"
   ]
  },
  {
   "cell_type": "code",
   "execution_count": 6,
   "id": "0ff3bfe3",
   "metadata": {},
   "outputs": [],
   "source": [
    "# print(\"shape:\",t_test_data.shape)\n",
    "# print(\"data:\\n\",t_test_data)"
   ]
  },
  {
   "cell_type": "code",
   "execution_count": 7,
   "id": "679d58e3",
   "metadata": {},
   "outputs": [
    {
     "name": "stdout",
     "output_type": "stream",
     "text": [
      "1/1 [==============================] - 2s 2s/step\n",
      "model result: [[0.04839036 0.09065321 0.14130397 0.04865135 0.08229627 0.15907252\n",
      "  0.09339202 0.15867361 0.11197126 0.0655954 ]]\n",
      "predict value: 5\n"
     ]
    }
   ],
   "source": [
    "res = load_model.predict(t_test_data)\n",
    "print(\"model result:\",res)\n",
    "print(\"predict value:\",np.argmax(res))"
   ]
  }
 ],
 "metadata": {
  "kernelspec": {
   "display_name": "Python 3 (ipykernel)",
   "language": "python",
   "name": "python3"
  },
  "language_info": {
   "codemirror_mode": {
    "name": "ipython",
    "version": 3
   },
   "file_extension": ".py",
   "mimetype": "text/x-python",
   "name": "python",
   "nbconvert_exporter": "python",
   "pygments_lexer": "ipython3",
   "version": "3.9.19"
  }
 },
 "nbformat": 4,
 "nbformat_minor": 5
}
